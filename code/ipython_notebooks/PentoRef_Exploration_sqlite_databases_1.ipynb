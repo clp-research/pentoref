{
 "cells": [
  {
   "cell_type": "markdown",
   "metadata": {},
   "source": [
    "# Explore with Sqlite databases"
   ]
  },
  {
   "cell_type": "code",
   "execution_count": 1,
   "metadata": {},
   "outputs": [],
   "source": [
    "import sys\n",
    "sys.path.append(\"../python/\")\n",
    "import pentoref.IO as IO\n",
    "import sqlite3 as sqlite"
   ]
  },
  {
   "cell_type": "code",
   "execution_count": 2,
   "metadata": {},
   "outputs": [],
   "source": [
    "# Create databases if required\n",
    "if False:   # make True if you need to create the databases from the derived data\n",
    "    for corpus_name in [\"TAKE\", \"TAKECV\", \"PENTOCV\"]:\n",
    "        data_dir = \"../../../pentoref/{0}_PENTOREF\".format(corpus_name)\n",
    "        dfwords, dfutts, dfrefs, dfscenes, dfactions = IO.convert_subcorpus_raw_data_to_dataframes(data_dir)\n",
    "        IO.write_corpus_to_database(\"{0}.db\".format(corpus_name),\n",
    "                                    corpus_name, dfwords, dfutts, dfrefs, dfscenes, dfactions)"
   ]
  },
  {
   "cell_type": "code",
   "execution_count": 3,
   "metadata": {},
   "outputs": [
    {
     "name": "stdout",
     "output_type": "stream",
     "text": [
      "utts ['gameID', 'uttID', 'starttime', 'endtime', 'utt', 'utt_clean', 'role', 'speaker']\n",
      "words ['gameID', 'uttID', 'position', 'word', 'lemma', 'tag']\n",
      "refs ['refID', 'gameID', 'uttID', 'text', 'id', 'piece', 'location']\n",
      "scenes ['timestampID', 'gameID', 'pieceID', 'position_global', 'position_x', 'position_y', 'shape', 'shape_distribution', 'shape_orientation', 'shape_skewness_horizontal', 'shape_skewness_vertical', 'shape_edges', 'colour', 'colour_distribution', 'colour_hsv', 'colour_rgb']\n",
      "actions ['gameID', 'starttime', 'endtime', 'hand', 'action', 'piece']\n"
     ]
    }
   ],
   "source": [
    "# Connect to database\n",
    "CORPUS = \"PENTOCV\"\n",
    "db = sqlite.connect(\"{0}.db\".format(CORPUS))\n",
    "cursor = db.cursor()\n",
    "# get the table column header names\n",
    "print(\"utts\", [x[1] for x in cursor.execute(\"PRAGMA table_info(utts)\")])\n",
    "print(\"words\", [x[1] for x in cursor.execute(\"PRAGMA table_info(words)\")])\n",
    "print(\"refs\", [x[1] for x in cursor.execute(\"PRAGMA table_info(refs)\")])\n",
    "print(\"scenes\", [x[1] for x in cursor.execute(\"PRAGMA table_info(scenes)\")])\n",
    "print(\"actions\", [x[1] for x in cursor.execute(\"PRAGMA table_info(actions)\")])"
   ]
  },
  {
   "cell_type": "markdown",
   "metadata": {},
   "source": [
    "## Get utterances from certain time periods in each experiment or for certain episodes"
   ]
  },
  {
   "cell_type": "code",
   "execution_count": 4,
   "metadata": {},
   "outputs": [
    {
     "name": "stdout",
     "output_type": "stream",
     "text": [
      "('r8_1_1_b', 203.325, 'A', 'Dieses?')\n",
      "('r8_1_1_b', 203.83, 'A', '')\n",
      "('r8_1_1_b', 203.879, 'B', 'Einmal ge- drehen')\n",
      "('r8_1_1_b', 204.243, 'B', 'Genau')\n",
      "('r8_1_1_b', 204.798, 'B', '')\n",
      "('r8_1_1_b', 204.935, 'A', 'So?')\n",
      "('r8_1_1_b', 205.317, 'A', '')\n",
      "('r8_1_1_b', 205.412, 'B', 'Ja noch einmal drehen')\n",
      "('r8_1_1_b', 206.449, 'B', '')\n",
      "('r8_1_1_b', 207.158, 'B', 'Und unten daran')\n",
      "('r8_1_1_b', 207.881, 'B', '')\n",
      "('r8_1_1_b', 208.227, 'A', 'So?')\n",
      "('r8_1_1_b', 208.732, 'A', '')\n",
      "('r8_1_1_b', 208.882, 'B', 'Genau')\n",
      "('r8_1_1_b', 209.523, 'B', '')\n",
      "('r8_1_1_b', 210.055, 'B', 'Dann nehmen wir dein L und das L schließt unten links')\n",
      "('r8_1_1_b', 212.879, 'B', '')\n",
      "('r8_1_1_b', 213.779, 'B', 'Drehe es mal auf die andersherum')\n",
      "('r8_1_1_b', 214.829, 'A', 'Ah okay so?')\n",
      "('r8_1_1_b', 215.334, 'B', '')\n",
      "('r8_1_1_b', 215.579, 'B', 'Genau')\n",
      "('r8_1_1_b', 215.975, 'B', '')\n",
      "('r8_1_1_b', 216.316, 'A', '')\n",
      "('r8_1_1_b', 216.539, 'B', 'So und dann brauchen wir oben rechts den Klotz noch')\n",
      "('r8_1_1_b', 218.367, 'B', '')\n",
      "('r8_1_1_b', 218.872, 'B', 'Genau und den schließen wir unten daran und schon haben wir unser Z gebaut')\n",
      "('r8_1_1_b', 219.226, 'A', 'Mhm')\n",
      "('r8_1_1_b', 219.636, 'A', '')\n",
      "('r8_1_1_b', 221.231, 'A', 'Oh?')\n",
      "('r8_1_1_b', 221.231, 'B', '')\n",
      "('r8_1_1_b', 221.432, 'A', 'Perfekt')\n",
      "('r8_1_1_b', 222.036, 'A', '')\n",
      "('r8_1_1_b', 222.551, 'B', 'Okay')\n",
      "('r8_1_1_b', 222.864, 'A', 'Genau')\n"
     ]
    }
   ],
   "source": [
    "for row in db.execute(\"SELECT gameID, starttime, speaker, utt_clean FROM utts\" + \\\n",
    "                    \" WHERE starttime >= 200 AND starttime <= 300\" + \\\n",
    "                     ' AND gameID = \"r8_1_1_b\"' + \\\n",
    "                    \" ORDER BY gameID, starttime\"):\n",
    "    print(row)"
   ]
  },
  {
   "cell_type": "markdown",
   "metadata": {},
   "source": [
    "## Get mutual information between words used in referring expressions and properties of the referent"
   ]
  },
  {
   "cell_type": "code",
   "execution_count": 5,
   "metadata": {},
   "outputs": [],
   "source": [
    "from collections import Counter\n",
    "from pentoref.IOutils import clean_utt"
   ]
  },
  {
   "cell_type": "code",
   "execution_count": 6,
   "metadata": {},
   "outputs": [],
   "source": [
    "piece_counter = Counter()\n",
    "word_counter = Counter()\n",
    "word_piece_counter = Counter()\n",
    "\n",
    "for row in db.execute(\"SELECT id, gameID, text, uttID FROM refs\"):\n",
    "#for row in db.execute(\"SELECT shape, colour, orientation, gridPosition, gameID, pieceID FROM scenes\"):\n",
    "    #isTarget = db.execute('SELECT refID FROM refs WHERE gameID =\"' + row[4] + '\" AND pieceID =\"' + row[5] + '\"')\n",
    "    #target = False \n",
    "    #for r1 in isTarget:\n",
    "    #    target = True\n",
    "    #if not target:\n",
    "    #    continue\n",
    "    #print(r)\n",
    "    #shape, colour, orientation, gridPosition, gameID, pieceID = row\n",
    "    #piece = gridPosition #shape + \"_\" + colour\n",
    "    piece, gameID, text, uttID = row\n",
    "    \n",
    "    \n",
    "    if CORPUS in [\"TAKECV\", \"TAKE\"]:\n",
    "        for f in db.execute('SELECT word from words WHERE gameID =\"' + str(gameID) + '\"'):\n",
    "            #print(f)\n",
    "            for word in f[0].lower().split():\n",
    "                word_counter[word] += 1\n",
    "                word_piece_counter[piece+\"__\"+word]+=1\n",
    "                piece_counter[piece] += 1\n",
    "    elif CORPUS == \"PENTOCV\":\n",
    "        for word in clean_utt(text.lower()).split():\n",
    "            word_counter[word] += 1\n",
    "            word_piece_counter[piece+\"__\"+word]+=1\n",
    "            piece_counter[piece] += 1\n"
   ]
  },
  {
   "cell_type": "code",
   "execution_count": 7,
   "metadata": {},
   "outputs": [
    {
     "name": "stdout",
     "output_type": "stream",
     "text": [
      "non standard pieces {'V,T': 2, 'P,T': 1, 'N,Z': 3, 'V,L': 3, 'T,Y': 3, 'W,T': 7, 'I,V,Z': 7}\n"
     ]
    },
    {
     "data": {
      "text/plain": [
       "Counter({'I': 477,\n",
       "         'X': 493,\n",
       "         'Y': 515,\n",
       "         'W': 488,\n",
       "         'P': 439,\n",
       "         'N': 533,\n",
       "         'U': 416,\n",
       "         'F': 405,\n",
       "         'Z': 383,\n",
       "         'L': 498,\n",
       "         'T': 517,\n",
       "         'V': 482,\n",
       "         'V,T': 2,\n",
       "         'P,T': 1,\n",
       "         'N,Z': 3,\n",
       "         'V,L': 3,\n",
       "         'T,Y': 3,\n",
       "         'W,T': 7,\n",
       "         'I,V,Z': 7,\n",
       "         'UNK': 1})"
      ]
     },
     "execution_count": 7,
     "metadata": {},
     "output_type": "execute_result"
    }
   ],
   "source": [
    "good_pieces = [\"X\", \"Y\", \"P\", \"N\", \"U\", \"F\", \"Z\", \"L\", \"T\", \"I\", \"W\", \"V\", \"UNK\"]\n",
    "print(\"non standard pieces\", {k:v for k,v in piece_counter.items() if k not in good_pieces})\n",
    "piece_counter"
   ]
  },
  {
   "cell_type": "code",
   "execution_count": 8,
   "metadata": {},
   "outputs": [
    {
     "data": {
      "text/plain": [
       "[('das', 1371),\n",
       " ('den', 275),\n",
       " ('dem', 210),\n",
       " ('es', 206),\n",
       " ('blaue', 174),\n",
       " ('der', 166),\n",
       " ('t', 161),\n",
       " ('lila', 153),\n",
       " ('grüne', 143),\n",
       " ('stein', 136),\n",
       " ('kreuz', 122),\n",
       " ('orange', 113),\n",
       " ('z', 109),\n",
       " ('braune', 106),\n",
       " ('blauen', 98),\n",
       " ('teil', 84),\n",
       " ('gelbe', 83),\n",
       " ('winkel', 83),\n",
       " ('l', 83),\n",
       " ('rote', 82)]"
      ]
     },
     "execution_count": 8,
     "metadata": {},
     "output_type": "execute_result"
    }
   ],
   "source": [
    "word_counter.most_common(20)"
   ]
  },
  {
   "cell_type": "code",
   "execution_count": 9,
   "metadata": {},
   "outputs": [],
   "source": [
    "word_total = sum(word_piece_counter.values())\n",
    "piece_total= sum(piece_counter.values())"
   ]
  },
  {
   "cell_type": "code",
   "execution_count": 10,
   "metadata": {},
   "outputs": [
    {
     "name": "stdout",
     "output_type": "stream",
     "text": [
      "piece: I 477\n",
      "balken 11.89308176100629\n",
      "dunkelblaue 11.89308176100629\n",
      "ganz 11.89308176100629\n",
      "lange 11.893081761006288\n",
      "dunkelblauen 11.893081761006288\n",
      "******************************\n",
      "piece: X 493\n",
      "kreuz 11.50709939148073\n",
      "rot 11.50709939148073\n",
      "roten 11.50709939148073\n",
      "rotes 11.50709939148073\n",
      "plus-zeichen 11.50709939148073\n",
      "******************************\n",
      "piece: Y 515\n",
      "braune 11.015533980582525\n",
      "braun 11.015533980582525\n",
      "braunen 11.015533980582525\n",
      "kleine 8.812427184466019\n",
      "klötzchen 7.34368932038835\n",
      "******************************\n",
      "piece: W 488\n",
      "hellgrüne 11.625\n",
      "m 11.625\n",
      "helle 11.625\n",
      "treppchen 11.625\n",
      "hellgrün 11.624999999999998\n",
      "******************************\n",
      "piece: P 439\n",
      "pinken 12.92255125284738\n",
      "pink 12.922551252847379\n",
      "pinkfarbene 12.922551252847379\n",
      "rosanen 12.922551252847379\n",
      "pinke 12.747922181862958\n",
      "******************************\n",
      "piece: N 533\n",
      "lilane 10.643527204502815\n",
      "lilanen 10.643527204502815\n",
      "lila 10.365265055365485\n",
      "diesem 4.2574108818011265\n",
      "dieses? 3.5478424015009384\n",
      "******************************\n",
      "piece: U 416\n",
      "gelben 13.637019230769232\n",
      "brücke 13.637019230769232\n",
      "gelb 13.63701923076923\n",
      "u 13.63701923076923\n",
      "gelbe 13.308416357738649\n",
      "******************************\n",
      "piece: F 405\n",
      "grau 14.007407407407408\n",
      "grauen 14.007407407407408\n",
      "graue 13.494941282746161\n",
      "dieses? 9.338271604938273\n",
      "gebilde 9.338271604938273\n",
      "******************************\n",
      "piece: Z 383\n",
      "türkise 14.81201044386423\n",
      "s 14.812010443864228\n",
      "z-stein 14.812010443864228\n",
      "petrolfarbene 14.812010443864228\n",
      "petrolfarbenen 14.812010443864228\n",
      "******************************\n",
      "piece: L 498\n",
      "orangene 11.391566265060241\n",
      "orangenen 11.391566265060241\n",
      "orange 10.988324981341293\n",
      "orangen 10.91691767068273\n",
      "l-form 9.113253012048192\n",
      "******************************\n",
      "piece: T 517\n",
      "dunkelgrüne 10.972920696324952\n",
      "t 10.018753679253217\n",
      "ts 9.40536059684996\n",
      "grünen 6.054025211765491\n",
      "grüne 4.987691225602252\n",
      "******************************\n",
      "piece: V 482\n",
      "l-förmige 11.769709543568464\n",
      "rechten 10.592738589211619\n",
      "winkel 10.209868519722042\n",
      "rechte 9.415767634854772\n",
      "hellblaue 7.846473029045643\n",
      "******************************\n",
      "piece: V,T 2\n",
      "der 17.087349397590362\n",
      "blaue 16.301724137931032\n",
      "das 0.0\n",
      "rote 0.0\n",
      "kreuz 0.0\n",
      "******************************\n",
      "piece: P,T 1\n",
      "diesen 378.2\n",
      "das 0.0\n",
      "blaue 0.0\n",
      "rote 0.0\n",
      "kreuz 0.0\n",
      "******************************\n",
      "piece: N,Z 3\n",
      "beiden 378.2\n",
      "die 26.26388888888889\n",
      "das 0.0\n",
      "blaue 0.0\n",
      "rote 0.0\n",
      "******************************\n",
      "piece: V,L 3\n",
      "ls 630.3333333333334\n",
      "beiden 378.2\n",
      "die 26.26388888888889\n",
      "das 0.0\n",
      "blaue 0.0\n",
      "******************************\n",
      "piece: T,Y 3\n",
      "beiden 378.2\n",
      "ts 270.14285714285717\n",
      "die 26.26388888888889\n",
      "das 0.0\n",
      "blaue 0.0\n",
      "******************************\n",
      "piece: W,T 7\n",
      "beiden 324.1714285714286\n",
      "grünen 55.891625615763544\n",
      "die 22.51190476190476\n",
      "das 0.0\n",
      "blaue 0.0\n",
      "******************************\n",
      "piece: I,V,Z 7\n",
      "das 0.0\n",
      "blaue 0.0\n",
      "rote 0.0\n",
      "kreuz 0.0\n",
      "braune 0.0\n",
      "******************************\n",
      "piece: UNK 1\n",
      "das 4.137855579868709\n",
      "blaue 0.0\n",
      "rote 0.0\n",
      "kreuz 0.0\n",
      "braune 0.0\n",
      "******************************\n"
     ]
    }
   ],
   "source": [
    "for piece, p_count in piece_counter.items():\n",
    "    print(\"piece:\", piece, p_count)\n",
    "    p_piece = p_count/piece_total\n",
    "    highest = -1\n",
    "    best_word = \"\"\n",
    "    rank = {}\n",
    "    for word, w_count in word_counter.items():\n",
    "        if w_count < 3: \n",
    "            continue\n",
    "        p_word = w_count / word_total\n",
    "        p_word_piece = word_piece_counter[piece+\"__\"+word] / word_total\n",
    "        mi = (p_word_piece/(p_piece * p_word))\n",
    "        rank[word] = mi\n",
    "        if mi > highest:\n",
    "            highest = mi\n",
    "            best_word = word\n",
    "    if True:\n",
    "        top = 5\n",
    "        for k, v in sorted(rank.items(), key=lambda x:x[1], reverse=True):\n",
    "            print(k, v)\n",
    "            top -=1\n",
    "            if top <= 0: \n",
    "                break\n",
    "    print(\"*\" * 30)"
   ]
  },
  {
   "cell_type": "code",
   "execution_count": 11,
   "metadata": {},
   "outputs": [],
   "source": [
    "db.close()"
   ]
  },
  {
   "cell_type": "code",
   "execution_count": null,
   "metadata": {},
   "outputs": [],
   "source": []
  }
 ],
 "metadata": {
  "kernelspec": {
   "display_name": "Python 3",
   "language": "python",
   "name": "python3"
  },
  "language_info": {
   "codemirror_mode": {
    "name": "ipython",
    "version": 3
   },
   "file_extension": ".py",
   "mimetype": "text/x-python",
   "name": "python",
   "nbconvert_exporter": "python",
   "pygments_lexer": "ipython3",
   "version": "3.7.4"
  }
 },
 "nbformat": 4,
 "nbformat_minor": 2
}
